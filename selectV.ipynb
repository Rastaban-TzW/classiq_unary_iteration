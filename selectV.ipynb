{
 "cells": [
  {
   "cell_type": "code",
   "execution_count": 15,
   "metadata": {},
   "outputs": [],
   "source": [
    "from classiq import *\n",
    "from classiq.qmod.symbolic import floor\n",
    "import numpy as np\n",
    "\n",
    "#nth_to_last(0, list) == list[-1]\n",
    "def nth_to_last(n:int, list): \n",
    "    return list[-1-n]\n",
    "\n",
    "@qfunc\n",
    "def tof_CT(b0:CBool, b1:CBool, ctl0:QBit, ctl1:QBit, target:QBit):\n",
    "    #apply NOT to target if ctl0==b0, etc\n",
    "    #keeping semantics as close to original as possible\n",
    "    #within (change of basis) do CCNOT\n",
    "    ctls = QArray()\n",
    "    bind([ctl0,ctl1],ctls)\n",
    "    within_apply(\n",
    "        lambda: basischange(b0,b1,ctls[0],ctls[1]),\n",
    "        lambda: control(ctrl=ctls, stmt_block=lambda: X(target))\n",
    "    )\n",
    "    bind(ctls,[ctl0,ctl1])\n",
    "    return\n",
    "\n",
    "#Note: this was not originally its own function, but this is very difficult to write inside a lambda.\n",
    "@qfunc(generative=True)\n",
    "def basischange(b0:CBool, b1:CBool, ctl0:QBit, ctl1:QBit):\n",
    "    if (not b0):\n",
    "        X(ctl0)\n",
    "    if (not b1):\n",
    "        X(ctl1)\n",
    "    return\n",
    "\n",
    "@qfunc\n",
    "def main(ans: Output[QBit]):\n",
    "    q0 = QBit()\n",
    "    q1 = QBit()\n",
    "    allocate(q0)\n",
    "    allocate(q1)\n",
    "    allocate(ans)\n",
    "    tof_CT(False, False, q0, q1, ans)\n"
   ]
  },
  {
   "cell_type": "code",
   "execution_count": 16,
   "metadata": {},
   "outputs": [
    {
     "name": "stdout",
     "output_type": "stream",
     "text": [
      "The circuit width is 3 and the circuit_depth is 12\n",
      "Opening: https://platform.classiq.io/circuit/2uo0aZeCXwArUfg9VSNHkfzlfas?login=True&version=0.72.1\n"
     ]
    }
   ],
   "source": [
    "qmod = create_model(\n",
    "    main,\n",
    "    out_file=\"toftest\",\n",
    ")\n",
    "\n",
    "qmod_constraint = set_constraints(\n",
    "    qmod, Constraints(optimization_parameter=\"depth\", max_width=50)\n",
    ")\n",
    "\n",
    "qprog = synthesize(qmod)\n",
    "\n",
    "circuit_width = QuantumProgram.from_qprog(qprog).data.width\n",
    "circuit_depth = QuantumProgram.from_qprog(qprog).transpiled_circuit.depth\n",
    "print(f\"The circuit width is {circuit_width} and the circuit_depth is {circuit_depth}\")\n",
    "show(qprog)"
   ]
  }
 ],
 "metadata": {
  "kernelspec": {
   "display_name": "classiq-venv",
   "language": "python",
   "name": "python3"
  },
  "language_info": {
   "codemirror_mode": {
    "name": "ipython",
    "version": 3
   },
   "file_extension": ".py",
   "mimetype": "text/x-python",
   "name": "python",
   "nbconvert_exporter": "python",
   "pygments_lexer": "ipython3",
   "version": "3.12.9"
  }
 },
 "nbformat": 4,
 "nbformat_minor": 2
}
